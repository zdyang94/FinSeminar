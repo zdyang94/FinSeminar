{
 "cells": [
  {
   "cell_type": "code",
   "execution_count": null,
   "metadata": {},
   "outputs": [],
   "source": [
    "import pandas as pd\n",
    "import numpy as np\n",
    "\n",
    "from WindPy import *\n",
    "w.start()"
   ]
  },
  {
   "cell_type": "code",
   "execution_count": 7,
   "metadata": {},
   "outputs": [],
   "source": [
    "#Choose the preferred stocks to be allocated in the portfolio\n",
    "stocklist=['ACN.N','TWTR.N','TSLA.O','AAPL.O','ATVI.O','AMZN.O','BAC.N','GE.N','F.N']\n",
    "benchmark='SPX.GI'\n"
   ]
  },
  {
   "cell_type": "code",
   "execution_count": 14,
   "metadata": {},
   "outputs": [],
   "source": [
    "import datetime\n",
    "def database(codelist,Days,ret='0'):\n",
    "    ##\n",
    "    # if ret=0, return a time series#\n",
    "    #if ret=1,return a return series#\n",
    "    \n",
    "    now = datetime.datetime.now()\n",
    "    delta = datetime.timedelta(days=Days)\n",
    "    old=now-delta\n",
    "    a=now.strftime('%Y-%m-%d')\n",
    "    b=old.strftime('%Y-%m-%d')\n",
    "    data=pd.DataFrame()\n",
    "    for i in codelist:\n",
    "        data[i]=w.wsd(i,\"close\",b,a,\"Period=M;Fill=Previous\").Data[0]\n",
    "    if ret=='0':           \n",
    "        return data\n",
    "    elif ret=='1':\n",
    "        retu=pd.DataFrame()\n",
    "        for j in range(len(code)):\n",
    "            lis=[]\n",
    "            for i in range(len(data)-1):\n",
    "                lis.append((data.iloc[i+1,j]-data.iloc[i,j])/data.iloc[i,j])\n",
    "            retu[code[j]]=lis\n",
    "        return retu\n",
    "    else:\n",
    "        return \"Invalid Input\""
   ]
  },
  {
   "cell_type": "code",
   "execution_count": null,
   "metadata": {},
   "outputs": [],
   "source": [
    "# Wind database is too slow outside china, so decided to use existing data from excel\n",
    "#return_matrix=pd.DataFrame()\n",
    "#for i in stocklist:\n",
    "#   return_matrix[i]=database(i,365*5)\n",
    "#return_matrix"
   ]
  },
  {
   "cell_type": "code",
   "execution_count": 141,
   "metadata": {},
   "outputs": [],
   "source": [
    "return_matrix=pd.read_csv('stocks.csv').iloc[:,2:]\n",
    "benchmark_return=list(pd.read_csv('stocks.csv').iloc[:,1])\n",
    "datelist=pd.read_csv('stocks.csv').iloc[:,0]"
   ]
  },
  {
   "cell_type": "code",
   "execution_count": 142,
   "metadata": {},
   "outputs": [],
   "source": [
    "# start to build up function that automatically get the result of minimal variance allocation for each period\n",
    "def get_mv(matrix):\n",
    "    code=list(matrix.columns)\n",
    "    cov_return=matrix.cov()\n",
    "    cov_inv=pd.DataFrame(np.linalg.pinv(cov_return.values), cov_return.columns, cov_return.index)\n",
    "    avg_return=np.array(matrix.mean())\n",
    "    ones=np.ones(len(code))\n",
    "    a=np.dot(np.dot(avg_return,cov_inv),avg_return.T)\n",
    "    b=np.dot(np.dot(avg_return,cov_inv),ones)\n",
    "    c=np.dot(np.dot(ones,cov_inv),ones)\n",
    "    d=a*c-b**2\n",
    "    weight_mv=np.dot(cov_inv,ones)/c\n",
    "    port_return=b/c\n",
    "    return [weight_mv,port_return]"
   ]
  },
  {
   "cell_type": "code",
   "execution_count": 143,
   "metadata": {},
   "outputs": [
    {
     "data": {
      "text/plain": [
       "[array([ 0.03111691, -0.00354308,  0.15529541,  0.31012767, -0.02481981,\n",
       "         0.31353447, -0.0667233 ,  0.1038715 ,  0.18114025]),\n",
       " 0.004235034416438823]"
      ]
     },
     "execution_count": 143,
     "metadata": {},
     "output_type": "execute_result"
    }
   ],
   "source": [
    "#test the result of get_mv, and get the result correctly\n",
    "get_mv(return_matrix) # checked with excel calculation"
   ]
  },
  {
   "cell_type": "code",
   "execution_count": 144,
   "metadata": {},
   "outputs": [
    {
     "data": {
      "text/html": [
       "<div>\n",
       "<style scoped>\n",
       "    .dataframe tbody tr th:only-of-type {\n",
       "        vertical-align: middle;\n",
       "    }\n",
       "\n",
       "    .dataframe tbody tr th {\n",
       "        vertical-align: top;\n",
       "    }\n",
       "\n",
       "    .dataframe thead th {\n",
       "        text-align: right;\n",
       "    }\n",
       "</style>\n",
       "<table border=\"1\" class=\"dataframe\">\n",
       "  <thead>\n",
       "    <tr style=\"text-align: right;\">\n",
       "      <th></th>\n",
       "      <th>Communication Services</th>\n",
       "      <th>Consumer Discretionary</th>\n",
       "      <th>Consumer Staples</th>\n",
       "      <th>Energy</th>\n",
       "      <th>Financials</th>\n",
       "      <th>Health Care</th>\n",
       "      <th>Industrials</th>\n",
       "      <th>Information Technology</th>\n",
       "      <th>Utilities</th>\n",
       "      <th>Expected Return</th>\n",
       "      <th>Realized Return</th>\n",
       "      <th>Benchmark</th>\n",
       "    </tr>\n",
       "    <tr>\n",
       "      <th>Date</th>\n",
       "      <th></th>\n",
       "      <th></th>\n",
       "      <th></th>\n",
       "      <th></th>\n",
       "      <th></th>\n",
       "      <th></th>\n",
       "      <th></th>\n",
       "      <th></th>\n",
       "      <th></th>\n",
       "      <th></th>\n",
       "      <th></th>\n",
       "      <th></th>\n",
       "    </tr>\n",
       "  </thead>\n",
       "  <tbody>\n",
       "    <tr>\n",
       "      <th>2009/1/30</th>\n",
       "      <td>-0.046686</td>\n",
       "      <td>-0.144006</td>\n",
       "      <td>-0.088894</td>\n",
       "      <td>0.487399</td>\n",
       "      <td>-0.020774</td>\n",
       "      <td>0.431087</td>\n",
       "      <td>0.232698</td>\n",
       "      <td>0.064976</td>\n",
       "      <td>0.084199</td>\n",
       "      <td>-0.015495</td>\n",
       "      <td>-0.167474</td>\n",
       "      <td>-0.085657</td>\n",
       "    </tr>\n",
       "    <tr>\n",
       "      <th>2009/2/27</th>\n",
       "      <td>-0.033027</td>\n",
       "      <td>-0.082970</td>\n",
       "      <td>0.183144</td>\n",
       "      <td>0.311285</td>\n",
       "      <td>-0.068872</td>\n",
       "      <td>0.399313</td>\n",
       "      <td>0.018201</td>\n",
       "      <td>0.025207</td>\n",
       "      <td>0.247718</td>\n",
       "      <td>-0.010498</td>\n",
       "      <td>-0.137225</td>\n",
       "      <td>-0.109931</td>\n",
       "    </tr>\n",
       "    <tr>\n",
       "      <th>2009/3/31</th>\n",
       "      <td>0.009446</td>\n",
       "      <td>-0.059286</td>\n",
       "      <td>0.446363</td>\n",
       "      <td>0.247176</td>\n",
       "      <td>-0.060397</td>\n",
       "      <td>0.447082</td>\n",
       "      <td>-0.214656</td>\n",
       "      <td>0.114310</td>\n",
       "      <td>0.069960</td>\n",
       "      <td>-0.003160</td>\n",
       "      <td>0.015061</td>\n",
       "      <td>0.085405</td>\n",
       "    </tr>\n",
       "    <tr>\n",
       "      <th>2009/4/30</th>\n",
       "      <td>0.025776</td>\n",
       "      <td>-0.047983</td>\n",
       "      <td>0.423667</td>\n",
       "      <td>0.269820</td>\n",
       "      <td>-0.072693</td>\n",
       "      <td>0.472150</td>\n",
       "      <td>-0.184556</td>\n",
       "      <td>0.055748</td>\n",
       "      <td>0.058070</td>\n",
       "      <td>-0.004117</td>\n",
       "      <td>-0.093897</td>\n",
       "      <td>0.093925</td>\n",
       "    </tr>\n",
       "    <tr>\n",
       "      <th>2009/5/29</th>\n",
       "      <td>0.050176</td>\n",
       "      <td>0.093580</td>\n",
       "      <td>0.316365</td>\n",
       "      <td>0.314307</td>\n",
       "      <td>-0.085672</td>\n",
       "      <td>0.484921</td>\n",
       "      <td>-0.030017</td>\n",
       "      <td>-0.097539</td>\n",
       "      <td>-0.046120</td>\n",
       "      <td>-0.008842</td>\n",
       "      <td>0.101892</td>\n",
       "      <td>0.053081</td>\n",
       "    </tr>\n",
       "  </tbody>\n",
       "</table>\n",
       "</div>"
      ],
      "text/plain": [
       "           Communication Services  Consumer Discretionary  Consumer Staples  \\\n",
       "Date                                                                          \n",
       "2009/1/30               -0.046686               -0.144006         -0.088894   \n",
       "2009/2/27               -0.033027               -0.082970          0.183144   \n",
       "2009/3/31                0.009446               -0.059286          0.446363   \n",
       "2009/4/30                0.025776               -0.047983          0.423667   \n",
       "2009/5/29                0.050176                0.093580          0.316365   \n",
       "\n",
       "             Energy  Financials  Health Care  Industrials  \\\n",
       "Date                                                        \n",
       "2009/1/30  0.487399   -0.020774     0.431087     0.232698   \n",
       "2009/2/27  0.311285   -0.068872     0.399313     0.018201   \n",
       "2009/3/31  0.247176   -0.060397     0.447082    -0.214656   \n",
       "2009/4/30  0.269820   -0.072693     0.472150    -0.184556   \n",
       "2009/5/29  0.314307   -0.085672     0.484921    -0.030017   \n",
       "\n",
       "           Information Technology  Utilities  Expected Return  \\\n",
       "Date                                                            \n",
       "2009/1/30                0.064976   0.084199        -0.015495   \n",
       "2009/2/27                0.025207   0.247718        -0.010498   \n",
       "2009/3/31                0.114310   0.069960        -0.003160   \n",
       "2009/4/30                0.055748   0.058070        -0.004117   \n",
       "2009/5/29               -0.097539  -0.046120        -0.008842   \n",
       "\n",
       "           Realized Return  Benchmark  \n",
       "Date                                   \n",
       "2009/1/30        -0.167474  -0.085657  \n",
       "2009/2/27        -0.137225  -0.109931  \n",
       "2009/3/31         0.015061   0.085405  \n",
       "2009/4/30        -0.093897   0.093925  \n",
       "2009/5/29         0.101892   0.053081  "
      ]
     },
     "execution_count": 144,
     "metadata": {},
     "output_type": "execute_result"
    }
   ],
   "source": [
    "#start to generate function to auto generate the moving tangency portfolio on a monthly basis\n",
    "\n",
    "period=24 #back test period, set to 2 years\n",
    "l=len(datelist)\n",
    "result=np.array([1,1,1,1,1,1,1,1,1])\n",
    "mean_result=[]\n",
    "for i in range(l-period):\n",
    "    weight=get_mv(return_matrix.iloc[i:i+period,:])[0]#get optimal weight for each backtest period\n",
    "    hist_mean=get_mv(return_matrix.iloc[i:i+period,:])[1]\n",
    "    result=np.vstack((result,weight))\n",
    "    mean_result.append(hist_mean)\n",
    "bt_result=pd.DataFrame(result[1:],index=datelist[period:],columns=list(return_matrix.columns))\n",
    "bt_result['Expected Return']=mean_result\n",
    "# start to deal with realized return\n",
    "#realized return = weight * return matrix \n",
    "realized_return=[]\n",
    "\n",
    "for i in range(l-period):\n",
    "        realized_return.append(np.dot(np.array(bt_result.iloc[i,0:len(return_matrix.columns)]),\n",
    "                                      np.array(return_matrix.iloc[period+i,0:len(return_matrix.columns)])))\n",
    "\n",
    "bt_result['Realized Return']=realized_return\n",
    "bt_result['Benchmark']=benchmark_return[period:]\n",
    "bt_result.head()"
   ]
  },
  {
   "cell_type": "code",
   "execution_count": 146,
   "metadata": {},
   "outputs": [
    {
     "data": {
      "text/html": [
       "<div>\n",
       "<style scoped>\n",
       "    .dataframe tbody tr th:only-of-type {\n",
       "        vertical-align: middle;\n",
       "    }\n",
       "\n",
       "    .dataframe tbody tr th {\n",
       "        vertical-align: top;\n",
       "    }\n",
       "\n",
       "    .dataframe thead th {\n",
       "        text-align: right;\n",
       "    }\n",
       "</style>\n",
       "<table border=\"1\" class=\"dataframe\">\n",
       "  <thead>\n",
       "    <tr style=\"text-align: right;\">\n",
       "      <th></th>\n",
       "      <th>Realized Return</th>\n",
       "      <th>Benchmark</th>\n",
       "    </tr>\n",
       "  </thead>\n",
       "  <tbody>\n",
       "    <tr>\n",
       "      <th>count</th>\n",
       "      <td>132.000000</td>\n",
       "      <td>132.000000</td>\n",
       "    </tr>\n",
       "    <tr>\n",
       "      <th>mean</th>\n",
       "      <td>0.004202</td>\n",
       "      <td>0.010465</td>\n",
       "    </tr>\n",
       "    <tr>\n",
       "      <th>std</th>\n",
       "      <td>0.058429</td>\n",
       "      <td>0.039138</td>\n",
       "    </tr>\n",
       "    <tr>\n",
       "      <th>min</th>\n",
       "      <td>-0.407932</td>\n",
       "      <td>-0.109931</td>\n",
       "    </tr>\n",
       "    <tr>\n",
       "      <th>25%</th>\n",
       "      <td>-0.018692</td>\n",
       "      <td>-0.008998</td>\n",
       "    </tr>\n",
       "    <tr>\n",
       "      <th>50%</th>\n",
       "      <td>0.009986</td>\n",
       "      <td>0.016255</td>\n",
       "    </tr>\n",
       "    <tr>\n",
       "      <th>75%</th>\n",
       "      <td>0.035550</td>\n",
       "      <td>0.033682</td>\n",
       "    </tr>\n",
       "    <tr>\n",
       "      <th>max</th>\n",
       "      <td>0.101892</td>\n",
       "      <td>0.107723</td>\n",
       "    </tr>\n",
       "  </tbody>\n",
       "</table>\n",
       "</div>"
      ],
      "text/plain": [
       "       Realized Return   Benchmark\n",
       "count       132.000000  132.000000\n",
       "mean          0.004202    0.010465\n",
       "std           0.058429    0.039138\n",
       "min          -0.407932   -0.109931\n",
       "25%          -0.018692   -0.008998\n",
       "50%           0.009986    0.016255\n",
       "75%           0.035550    0.033682\n",
       "max           0.101892    0.107723"
      ]
     },
     "execution_count": 146,
     "metadata": {},
     "output_type": "execute_result"
    }
   ],
   "source": [
    "#start to compare this portfolio with its benchmark\n",
    "bt_result.iloc[:,-2:].describe()\n",
    "#result indicates that the stocks picked are not very good"
   ]
  },
  {
   "cell_type": "code",
   "execution_count": 159,
   "metadata": {},
   "outputs": [
    {
     "data": {
      "text/plain": [
       "[<matplotlib.lines.Line2D at 0x216439144a8>]"
      ]
     },
     "execution_count": 159,
     "metadata": {},
     "output_type": "execute_result"
    },
    {
     "data": {
      "image/png": "[encoded data removed]",
      "text/plain": [
       "<Figure size 432x288 with 1 Axes>"
      ]
     },
     "metadata": {
      "needs_background": "light"
     },
     "output_type": "display_data"
    }
   ],
   "source": [
    "#plot a graph to show the performance of portfolio and benchmark\n",
    "import matplotlib.pyplot as plt\n",
    "#create a performance indicator line\n",
    "RR=[]\n",
    "BM=[]\n",
    "ini=1\n",
    "for i in bt_result.iloc[:,-2]:\n",
    "    ini=ini*(1+i)\n",
    "    RR.append(ini)\n",
    "ini=1\n",
    "for i in bt_result.iloc[:,-1]:\n",
    "    ini=ini*(1+i)\n",
    "    BM.append(ini)\n",
    "plt.plot(RR)\n",
    "plt.plot(BM)\n",
    "#plt.xticks(np.arange(len(bt_result.iloc[:,0])),bt_result.iloc[:,0])"
   ]
  },
  {
   "cell_type": "code",
   "execution_count": null,
   "metadata": {},
   "outputs": [],
   "source": [
    "# Conclusion:\n",
    "# The stockes picked in this scenario, under minimal variance portfolio construction, is really a bad choice."
   ]
  }
 ],
 "metadata": {
  "kernelspec": {
   "display_name": "Python 3",
   "language": "python",
   "name": "python3"
  },
  "language_info": {
   "codemirror_mode": {
    "name": "ipython",
    "version": 3
   },
   "file_extension": ".py",
   "mimetype": "text/x-python",
   "name": "python",
   "nbconvert_exporter": "python",
   "pygments_lexer": "ipython3",
   "version": "3.7.3"
  }
 },
 "nbformat": 4,
 "nbformat_minor": 2
}
